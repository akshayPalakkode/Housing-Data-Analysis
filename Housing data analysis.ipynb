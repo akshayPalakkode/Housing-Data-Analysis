{
 "cells": [
  {
   "cell_type": "code",
   "execution_count": 1,
   "id": "a1ccad6b",
   "metadata": {},
   "outputs": [],
   "source": [
    "import pandas as pd\n",
    "import os\n",
    "import pathlib\n",
    "from helper_functions import fetch_cal_housing_data"
   ]
  },
  {
   "cell_type": "code",
   "execution_count": 5,
   "id": "6c21ccbf",
   "metadata": {},
   "outputs": [],
   "source": [
    "## Collecting the data\n",
    "if not os.path.exists(pathlib.Path.cwd() / \"Datasets\"):\n",
    "    fetch_cal_housing_data()"
   ]
  },
  {
   "cell_type": "code",
   "execution_count": null,
   "id": "3ab0dae1",
   "metadata": {},
   "outputs": [],
   "source": []
  }
 ],
 "metadata": {
  "kernelspec": {
   "display_name": "Python 3",
   "language": "python",
   "name": "python3"
  },
  "language_info": {
   "codemirror_mode": {
    "name": "ipython",
    "version": 3
   },
   "file_extension": ".py",
   "mimetype": "text/x-python",
   "name": "python",
   "nbconvert_exporter": "python",
   "pygments_lexer": "ipython3",
   "version": "3.9.5"
  }
 },
 "nbformat": 4,
 "nbformat_minor": 5
}
